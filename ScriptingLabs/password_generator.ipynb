{
 "cells": [
  {
   "cell_type": "code",
   "execution_count": 1,
   "metadata": {},
   "outputs": [
    {
     "name": "stdout",
     "output_type": "stream",
     "text": [
      "['sister', 'sister', 'thought']\n",
      "Generated password: sistersisterthought\n"
     ]
    }
   ],
   "source": [
    "import random\n",
    "\n",
    "#Write a function called generate_password that selects three random words from the list of words word_list and concatenates them into a single string. Your function should not accept any arguments and should reference the global variable word_list to build the password.\n",
    "\n",
    "# Use an import statement at the top\n",
    "\n",
    "word_file = \"words.txt\"\n",
    "word_list = []\n",
    "\n",
    "#fill up the word_list\n",
    "with open(word_file,'r') as words:\n",
    "\tfor line in words:\n",
    "\t\t# remove white space and make everything lowercase\n",
    "\t\tword = line.strip().lower()\n",
    "\t\t# don't include words that are too long or too short\n",
    "\t\tif 3 < len(word) < 8:\n",
    "\t\t\tword_list.append(word)\n",
    "\n",
    "# Add your function generate_password here\n",
    "# It should return a string consisting of three random words \n",
    "# concatenated together without spaces\n",
    "\n",
    "def generate_password():\n",
    "\tpassword = random.sample(word_list, 3)\n",
    "\tprint(password)\n",
    "\tseparator = ''\n",
    "\treturn 'Generated password: {}'.format(separator.join(password))\n",
    "\n",
    "\n",
    "\n",
    "# test your function\n",
    "print(generate_password())"
   ]
  },
  {
   "cell_type": "code",
   "execution_count": null,
   "metadata": {},
   "outputs": [],
   "source": []
  }
 ],
 "metadata": {
  "kernelspec": {
   "display_name": "Python 3",
   "language": "python",
   "name": "python3"
  },
  "language_info": {
   "codemirror_mode": {
    "name": "ipython",
    "version": 3
   },
   "file_extension": ".py",
   "mimetype": "text/x-python",
   "name": "python",
   "nbconvert_exporter": "python",
   "pygments_lexer": "ipython3",
   "version": "3.7.6"
  }
 },
 "nbformat": 4,
 "nbformat_minor": 4
}
