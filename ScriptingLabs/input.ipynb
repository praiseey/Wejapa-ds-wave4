{
 "cells": [
  {
   "cell_type": "code",
   "execution_count": 2,
   "metadata": {},
   "outputs": [
    {
     "name": "stdout",
     "output_type": "stream",
     "text": [
      "Enter name: praise\n",
      "Enter assignments left: 4\n",
      "Enter grade: 35\n",
      "\n",
      "Hi PRAISE,\n",
      "\n",
      "This is a reminder that you have 4 assignments left to    submit before you can graduate. You're current grade is 35.0 and can increase     to 43.0 if you submit all assignments before the due date.\n",
      "\n",
      "\n"
     ]
    }
   ],
   "source": [
    "#Write a script that does the following:\n",
    "\n",
    "#Ask for user input 3 times. Once for a list of names, once for a list of missing assignment counts, and once for a list of grades. Use this input to create lists for names, assignments, and grades.\n",
    "#Use a loop to print the message for each student with the correct values. The potential grade is simply the current grade added to two times the number of missing assignments.\n",
    "#Template code for your script:\n",
    "\n",
    "names = []   # get and process input for a list of names\n",
    "assignments = []   # get and process input for a list of the number of assignments\n",
    "grades = []    # get and process input for a list of grades\n",
    "\n",
    "potential_grades = []\n",
    "\n",
    "f_name = input('Enter name: ').upper()\n",
    "assignments_left = int(input('Enter assignments left: '))\n",
    "student_grade = float(input('Enter grade: '))\n",
    "potential_grade = student_grade + (assignments_left * 2)\n",
    "\n",
    "names.append(f_name)\n",
    "assignments.append(assignments_left)\n",
    "grades.append(student_grade)\n",
    "potential_grades.append(potential_grade)\n",
    "\n",
    "# , assignment, grade, potential_grade\n",
    "for name in zip(names, assignments, grades, potential_grades):\n",
    "    message = \"Hi {},\\n\\nThis is a reminder that you have {} assignments left to\\\n",
    "    submit before you can graduate. You're current grade is {} and can increase \\\n",
    "    to {} if you submit all assignments before the due date.\\n\\n\" \\\n",
    "              \"\".format(names[0], assignments[0], grades[0], potential_grades[0])\n",
    "    print()\n",
    "    print(message)\n",
    "\n",
    "\n",
    "# message string to be used for each student\n",
    "# HINT: use .format() with this string in your for loop\n",
    "message = \"Hi {},\\n\\nThis is a reminder that you have {} assignments left to\\\n",
    "submit before you can graduate. Your current grade is {} and can increase\\\n",
    "to {} if you submit all assignments before the due date.\\n\\n\"\n"
   ]
  },
  {
   "cell_type": "code",
   "execution_count": null,
   "metadata": {},
   "outputs": [],
   "source": []
  }
 ],
 "metadata": {
  "kernelspec": {
   "display_name": "Python 3",
   "language": "python",
   "name": "python3"
  },
  "language_info": {
   "codemirror_mode": {
    "name": "ipython",
    "version": 3
   },
   "file_extension": ".py",
   "mimetype": "text/x-python",
   "name": "python",
   "nbconvert_exporter": "python",
   "pygments_lexer": "ipython3",
   "version": "3.7.6"
  }
 },
 "nbformat": 4,
 "nbformat_minor": 4
}
