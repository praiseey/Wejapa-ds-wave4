{
 "cells": [
  {
   "cell_type": "code",
   "execution_count": null,
   "metadata": {},
   "outputs": [
    {
     "name": "stdout",
     "output_type": "stream",
     "text": [
      "How many cookies are you baking? 15\n",
      "How many people are attending? 0\n",
      "Invalid! Please enter a different number of people\n",
      "\n",
      "Would you like to party more? (y or n) y\n",
      "How many cookies are you baking? 15\n",
      "How many people are attending? 15\n",
      "\n",
      "Let's party! We'll have 15 people attending, they'll each get to eat 1 cookies, and we'll have 0 left over.\n"
     ]
    }
   ],
   "source": [
    "#The party_planner function below takes as input a number of party people\n",
    "# and cookies and figures out how many cookies each person gets at the party,\n",
    "# assuming equitable distribution of cookies. Then, it returns that number\n",
    "# along with how many cookies will be left over.\n",
    "\n",
    "#Right now, calling the function with an input of 0 people will cause an\n",
    "# error, because it creates a ZeroDivisionError exception. Edit the party\n",
    "# _planner function to handle this invalid input. If it runs into this\n",
    "# exception, it should print a warning message to the user and request they\n",
    "# input a different number of people.\n",
    "\n",
    "#After you've edited the function, try running the file again and make sure\n",
    "# it does what you intended. Try it with several different input values,\n",
    "# including 0 and other values for the number of people.\n",
    "\n",
    "\n",
    "def party_planner(cookies, people):\n",
    "    leftovers = None\n",
    "    num_each = None\n",
    "    try:\n",
    "        num_each = cookies // people\n",
    "        leftovers = cookies % people\n",
    "    except ZeroDivisionError:\n",
    "        print('Invalid! Please enter a different number of people')\n",
    "    return num_each, leftovers\n",
    "\n",
    "\n",
    "# The main code block is below; do not edit this\n",
    "lets_party = 'y'\n",
    "while lets_party == 'y':\n",
    "\n",
    "    cookies = int(input(\"How many cookies are you baking? \"))\n",
    "    people = int(input(\"How many people are attending? \"))\n",
    "\n",
    "    cookies_each, leftovers = party_planner(cookies, people)\n",
    "\n",
    "    if cookies_each:  # if cookies_each is not None\n",
    "        message = \"\\nLet's party! We'll have {} people attending, they'll each get to eat {} cookies, and we'll have {} left over.\"\n",
    "        print(message.format(people, cookies_each, leftovers))\n",
    "    lets_party = input(\"\\nWould you like to party more? (y or n) \")\n",
    "\n"
   ]
  },
  {
   "cell_type": "code",
   "execution_count": null,
   "metadata": {},
   "outputs": [],
   "source": []
  }
 ],
 "metadata": {
  "kernelspec": {
   "display_name": "Python 3",
   "language": "python",
   "name": "python3"
  },
  "language_info": {
   "codemirror_mode": {
    "name": "ipython",
    "version": 3
   },
   "file_extension": ".py",
   "mimetype": "text/x-python",
   "name": "python",
   "nbconvert_exporter": "python",
   "pygments_lexer": "ipython3",
   "version": "3.7.6"
  }
 },
 "nbformat": 4,
 "nbformat_minor": 4
}
