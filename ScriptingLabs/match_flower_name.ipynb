{
 "cells": [
  {
   "cell_type": "code",
   "execution_count": 1,
   "metadata": {},
   "outputs": [
    {
     "name": "stdout",
     "output_type": "stream",
     "text": [
      "Enter your First [space] Last name only: praise inua\n",
      "\n",
      "{'A': 'African Daisy\\n', 'B': 'Bellflower\\n', 'C': 'Coral Bells\\n', 'D': 'Desert Rose\\n', 'E': 'English Bluebell\\n', 'F': 'Forget Me Not\\n', 'G': 'Goldenrod\\n', 'H': 'Heliotrope\\n', 'I': 'Impatiens\\n', 'J': 'Jamesia americana\\n', 'K': 'Kangaroo Paw\\n', 'L': 'Lily of the Valley\\n', 'M': 'Monks Hood\\n', 'N': 'Nemophila\\n', 'O': 'Ox Eye Daisy\\n', 'P': 'Peace Lily\\n', 'Q': 'Quaker Ladies\\n', 'R': 'Rain Lily\\n', 'S': 'Snapdragon\\n', 'T': 'Trumpet Vine\\n', 'U': 'Urn Plant\\n', 'V': 'Viola wittrockiana\\n', 'W': 'Whirling Butterflies\\n', 'X': 'Xanthoceras sorbifolium\\n', 'Y': 'Yellow Archangel\\n', 'Z': 'Zinnia elegans'}\n",
      "\n",
      "Unique flower name with the first letter: Peace Lily\n",
      "\n"
     ]
    }
   ],
   "source": [
    "#For the following practice question you will need to write code in Python in the workspace below. This will allow you to practice the concepts discussed in the Scripting lesson, such as reading and writing files. You will see some older concepts too, but again, we have them there to review and reinforce your understanding of those concepts.\n",
    "\n",
    "#Question: Create a function that opens the flowers.txt, reads every line in it, and saves it as a dictionary. The main (separate) function should take user input (user's first name and last name) and parse the user input to identify the first letter of the first name. It should then use it to print the flower name with the same first letter (from dictionary created in the first function).\n",
    "\n",
    "#Sample Output:\n",
    "\n",
    "#>>> Enter your First [space] Last name only: Bill Newman\n",
    "#>>> Unique flower name with the first letter: Bellflower\n",
    "\n",
    "# Write your code here\n",
    "\n",
    "# HINT: create a dictionary from flowers.txt\n",
    "\n",
    "# HINT: create a function\n",
    "\n",
    "flowers = {}\n",
    "\n",
    "\n",
    "def name_flower():\n",
    "    name = input('Enter your First [space] Last name only: ').upper()\n",
    "\n",
    "    def add_flower():\n",
    "        with open('flowers.txt') as file:\n",
    "            for flower in file:\n",
    "                key, value = flower.split(': ')\n",
    "                flowers[key] = value\n",
    "                # print(value)\n",
    "            print(f'\\n{flowers}')\n",
    "    add_flower()\n",
    "\n",
    "    first_letter = name[0]\n",
    "    for key in flowers:\n",
    "        if key == first_letter:\n",
    "            value = flowers[key]\n",
    "            # print(value)\n",
    "            print('\\nUnique flower name with the first letter: {}'.format(value))\n",
    "\n",
    "\n",
    "name_flower()"
   ]
  },
  {
   "cell_type": "code",
   "execution_count": null,
   "metadata": {},
   "outputs": [],
   "source": []
  }
 ],
 "metadata": {
  "kernelspec": {
   "display_name": "Python 3",
   "language": "python",
   "name": "python3"
  },
  "language_info": {
   "codemirror_mode": {
    "name": "ipython",
    "version": 3
   },
   "file_extension": ".py",
   "mimetype": "text/x-python",
   "name": "python",
   "nbconvert_exporter": "python",
   "pygments_lexer": "ipython3",
   "version": "3.7.6"
  }
 },
 "nbformat": 4,
 "nbformat_minor": 4
}
