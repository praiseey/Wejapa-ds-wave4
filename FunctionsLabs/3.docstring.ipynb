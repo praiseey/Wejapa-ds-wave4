{
 "cells": [
  {
   "cell_type": "code",
   "execution_count": null,
   "metadata": {},
   "outputs": [],
   "source": [
    "def readable_timedelta(days):\n",
    "    # insert your docstring here\n",
    "    \"\"\"Calculate the number of weeks and days left in a given number of days.\n",
    "    INPUT:\n",
    "    days: number of days to calculate from.\n",
    "    OUTPUT:\n",
    "    Total number of weeks and number of days left in a given number of days.\n",
    "    \n",
    "    \"\"\"\n",
    "    weeks = days // 7\n",
    "    remainder = days % 7\n",
    "    return \"{} week(s) and {} day(s)\".format(weeks, remainder)"
   ]
  }
 ],
 "metadata": {
  "kernelspec": {
   "display_name": "Python 3",
   "language": "python",
   "name": "python3"
  },
  "language_info": {
   "codemirror_mode": {
    "name": "ipython",
    "version": 3
   },
   "file_extension": ".py",
   "mimetype": "text/x-python",
   "name": "python",
   "nbconvert_exporter": "python",
   "pygments_lexer": "ipython3",
   "version": "3.7.6"
  }
 },
 "nbformat": 4,
 "nbformat_minor": 4
}
